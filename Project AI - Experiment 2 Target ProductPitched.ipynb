{
 "cells": [
  {
   "cell_type": "markdown",
   "id": "f54b4fbe",
   "metadata": {},
   "source": [
    "# 1. Data collection"
   ]
  },
  {
   "cell_type": "code",
   "execution_count": 1,
   "id": "25ac8500",
   "metadata": {},
   "outputs": [
    {
     "data": {
      "text/html": [
       "<svg  width=\"330\" height=\"55\"><rect x=\"0\" y=\"0\" width=\"55\" height=\"55\" style=\"fill:#46327e;stroke-width:2;stroke:rgb(255,255,255)\"/><rect x=\"55\" y=\"0\" width=\"55\" height=\"55\" style=\"fill:#365c8d;stroke-width:2;stroke:rgb(255,255,255)\"/><rect x=\"110\" y=\"0\" width=\"55\" height=\"55\" style=\"fill:#277f8e;stroke-width:2;stroke:rgb(255,255,255)\"/><rect x=\"165\" y=\"0\" width=\"55\" height=\"55\" style=\"fill:#1fa187;stroke-width:2;stroke:rgb(255,255,255)\"/><rect x=\"220\" y=\"0\" width=\"55\" height=\"55\" style=\"fill:#4ac16d;stroke-width:2;stroke:rgb(255,255,255)\"/><rect x=\"275\" y=\"0\" width=\"55\" height=\"55\" style=\"fill:#a0da39;stroke-width:2;stroke:rgb(255,255,255)\"/></svg>"
      ],
      "text/plain": [
       "[(0.275191, 0.194905, 0.496005),\n",
       " (0.212395, 0.359683, 0.55171),\n",
       " (0.153364, 0.497, 0.557724),\n",
       " (0.122312, 0.633153, 0.530398),\n",
       " (0.288921, 0.758394, 0.428426),\n",
       " (0.626579, 0.854645, 0.223353)]"
      ]
     },
     "execution_count": 1,
     "metadata": {},
     "output_type": "execute_result"
    }
   ],
   "source": [
    "import pandas as pd\n",
    "import numpy as np\n",
    "import matplotlib.pyplot as plt\n",
    "import seaborn as sns\n",
    "sns.color_palette(\"viridis\")"
   ]
  },
  {
   "cell_type": "code",
   "execution_count": 2,
   "id": "5872acbb",
   "metadata": {},
   "outputs": [],
   "source": [
    "import warnings\n",
    "warnings.filterwarnings('ignore')"
   ]
  },
  {
   "cell_type": "code",
   "execution_count": 3,
   "id": "3b4b2a13",
   "metadata": {
    "scrolled": true
   },
   "outputs": [
    {
     "data": {
      "text/html": [
       "<div>\n",
       "<style scoped>\n",
       "    .dataframe tbody tr th:only-of-type {\n",
       "        vertical-align: middle;\n",
       "    }\n",
       "\n",
       "    .dataframe tbody tr th {\n",
       "        vertical-align: top;\n",
       "    }\n",
       "\n",
       "    .dataframe thead th {\n",
       "        text-align: right;\n",
       "    }\n",
       "</style>\n",
       "<table border=\"1\" class=\"dataframe\">\n",
       "  <thead>\n",
       "    <tr style=\"text-align: right;\">\n",
       "      <th></th>\n",
       "      <th>CustomerID</th>\n",
       "      <th>ProdTaken</th>\n",
       "      <th>Age</th>\n",
       "      <th>TypeofContact</th>\n",
       "      <th>CityTier</th>\n",
       "      <th>DurationOfPitch</th>\n",
       "      <th>Occupation</th>\n",
       "      <th>Gender</th>\n",
       "      <th>NumberOfPersonVisiting</th>\n",
       "      <th>NumberOfFollowups</th>\n",
       "      <th>ProductPitched</th>\n",
       "      <th>PreferredPropertyStar</th>\n",
       "      <th>MaritalStatus</th>\n",
       "      <th>NumberOfTrips</th>\n",
       "      <th>Passport</th>\n",
       "      <th>PitchSatisfactionScore</th>\n",
       "      <th>OwnCar</th>\n",
       "      <th>NumberOfChildrenVisiting</th>\n",
       "      <th>Designation</th>\n",
       "      <th>MonthlyIncome</th>\n",
       "    </tr>\n",
       "  </thead>\n",
       "  <tbody>\n",
       "    <tr>\n",
       "      <th>0</th>\n",
       "      <td>200000</td>\n",
       "      <td>1</td>\n",
       "      <td>41.0</td>\n",
       "      <td>Self Enquiry</td>\n",
       "      <td>3</td>\n",
       "      <td>6.0</td>\n",
       "      <td>Salaried</td>\n",
       "      <td>Female</td>\n",
       "      <td>3</td>\n",
       "      <td>3.0</td>\n",
       "      <td>Deluxe</td>\n",
       "      <td>3.0</td>\n",
       "      <td>Single</td>\n",
       "      <td>1.0</td>\n",
       "      <td>1</td>\n",
       "      <td>2</td>\n",
       "      <td>1</td>\n",
       "      <td>0.0</td>\n",
       "      <td>Manager</td>\n",
       "      <td>20993.0</td>\n",
       "    </tr>\n",
       "    <tr>\n",
       "      <th>1</th>\n",
       "      <td>200001</td>\n",
       "      <td>0</td>\n",
       "      <td>49.0</td>\n",
       "      <td>Company Invited</td>\n",
       "      <td>1</td>\n",
       "      <td>14.0</td>\n",
       "      <td>Salaried</td>\n",
       "      <td>Male</td>\n",
       "      <td>3</td>\n",
       "      <td>4.0</td>\n",
       "      <td>Deluxe</td>\n",
       "      <td>4.0</td>\n",
       "      <td>Divorced</td>\n",
       "      <td>2.0</td>\n",
       "      <td>0</td>\n",
       "      <td>3</td>\n",
       "      <td>1</td>\n",
       "      <td>2.0</td>\n",
       "      <td>Manager</td>\n",
       "      <td>20130.0</td>\n",
       "    </tr>\n",
       "    <tr>\n",
       "      <th>2</th>\n",
       "      <td>200002</td>\n",
       "      <td>1</td>\n",
       "      <td>37.0</td>\n",
       "      <td>Self Enquiry</td>\n",
       "      <td>1</td>\n",
       "      <td>8.0</td>\n",
       "      <td>Free Lancer</td>\n",
       "      <td>Male</td>\n",
       "      <td>3</td>\n",
       "      <td>4.0</td>\n",
       "      <td>Basic</td>\n",
       "      <td>3.0</td>\n",
       "      <td>Single</td>\n",
       "      <td>7.0</td>\n",
       "      <td>1</td>\n",
       "      <td>3</td>\n",
       "      <td>0</td>\n",
       "      <td>0.0</td>\n",
       "      <td>Executive</td>\n",
       "      <td>17090.0</td>\n",
       "    </tr>\n",
       "    <tr>\n",
       "      <th>3</th>\n",
       "      <td>200003</td>\n",
       "      <td>0</td>\n",
       "      <td>33.0</td>\n",
       "      <td>Company Invited</td>\n",
       "      <td>1</td>\n",
       "      <td>9.0</td>\n",
       "      <td>Salaried</td>\n",
       "      <td>Female</td>\n",
       "      <td>2</td>\n",
       "      <td>3.0</td>\n",
       "      <td>Basic</td>\n",
       "      <td>3.0</td>\n",
       "      <td>Divorced</td>\n",
       "      <td>2.0</td>\n",
       "      <td>1</td>\n",
       "      <td>5</td>\n",
       "      <td>1</td>\n",
       "      <td>1.0</td>\n",
       "      <td>Executive</td>\n",
       "      <td>17909.0</td>\n",
       "    </tr>\n",
       "    <tr>\n",
       "      <th>4</th>\n",
       "      <td>200004</td>\n",
       "      <td>0</td>\n",
       "      <td>NaN</td>\n",
       "      <td>Self Enquiry</td>\n",
       "      <td>1</td>\n",
       "      <td>8.0</td>\n",
       "      <td>Small Business</td>\n",
       "      <td>Male</td>\n",
       "      <td>2</td>\n",
       "      <td>3.0</td>\n",
       "      <td>Basic</td>\n",
       "      <td>4.0</td>\n",
       "      <td>Divorced</td>\n",
       "      <td>1.0</td>\n",
       "      <td>0</td>\n",
       "      <td>5</td>\n",
       "      <td>1</td>\n",
       "      <td>0.0</td>\n",
       "      <td>Executive</td>\n",
       "      <td>18468.0</td>\n",
       "    </tr>\n",
       "  </tbody>\n",
       "</table>\n",
       "</div>"
      ],
      "text/plain": [
       "   CustomerID  ProdTaken   Age    TypeofContact  CityTier  DurationOfPitch  \\\n",
       "0      200000          1  41.0     Self Enquiry         3              6.0   \n",
       "1      200001          0  49.0  Company Invited         1             14.0   \n",
       "2      200002          1  37.0     Self Enquiry         1              8.0   \n",
       "3      200003          0  33.0  Company Invited         1              9.0   \n",
       "4      200004          0   NaN     Self Enquiry         1              8.0   \n",
       "\n",
       "       Occupation  Gender  NumberOfPersonVisiting  NumberOfFollowups  \\\n",
       "0        Salaried  Female                       3                3.0   \n",
       "1        Salaried    Male                       3                4.0   \n",
       "2     Free Lancer    Male                       3                4.0   \n",
       "3        Salaried  Female                       2                3.0   \n",
       "4  Small Business    Male                       2                3.0   \n",
       "\n",
       "  ProductPitched  PreferredPropertyStar MaritalStatus  NumberOfTrips  \\\n",
       "0         Deluxe                    3.0        Single            1.0   \n",
       "1         Deluxe                    4.0      Divorced            2.0   \n",
       "2          Basic                    3.0        Single            7.0   \n",
       "3          Basic                    3.0      Divorced            2.0   \n",
       "4          Basic                    4.0      Divorced            1.0   \n",
       "\n",
       "   Passport  PitchSatisfactionScore  OwnCar  NumberOfChildrenVisiting  \\\n",
       "0         1                       2       1                       0.0   \n",
       "1         0                       3       1                       2.0   \n",
       "2         1                       3       0                       0.0   \n",
       "3         1                       5       1                       1.0   \n",
       "4         0                       5       1                       0.0   \n",
       "\n",
       "  Designation  MonthlyIncome  \n",
       "0     Manager        20993.0  \n",
       "1     Manager        20130.0  \n",
       "2   Executive        17090.0  \n",
       "3   Executive        17909.0  \n",
       "4   Executive        18468.0  "
      ]
     },
     "execution_count": 3,
     "metadata": {},
     "output_type": "execute_result"
    }
   ],
   "source": [
    "df = pd.read_csv(\"/Users/brigitte/Desktop/Gisma Business School/business project Big Data and AI /Travel ESTE ES LA DATA PARA EL PROYECTO.csv\")\n",
    "df.head()"
   ]
  },
  {
   "cell_type": "markdown",
   "id": "c3065096",
   "metadata": {},
   "source": [
    "# 2. Data Exploration"
   ]
  },
  {
   "cell_type": "code",
   "execution_count": 4,
   "id": "1f131665",
   "metadata": {},
   "outputs": [
    {
     "name": "stdout",
     "output_type": "stream",
     "text": [
      "<class 'pandas.core.frame.DataFrame'>\n",
      "RangeIndex: 4888 entries, 0 to 4887\n",
      "Data columns (total 20 columns):\n",
      " #   Column                    Non-Null Count  Dtype  \n",
      "---  ------                    --------------  -----  \n",
      " 0   CustomerID                4888 non-null   int64  \n",
      " 1   ProdTaken                 4888 non-null   int64  \n",
      " 2   Age                       4662 non-null   float64\n",
      " 3   TypeofContact             4863 non-null   object \n",
      " 4   CityTier                  4888 non-null   int64  \n",
      " 5   DurationOfPitch           4637 non-null   float64\n",
      " 6   Occupation                4888 non-null   object \n",
      " 7   Gender                    4888 non-null   object \n",
      " 8   NumberOfPersonVisiting    4888 non-null   int64  \n",
      " 9   NumberOfFollowups         4843 non-null   float64\n",
      " 10  ProductPitched            4888 non-null   object \n",
      " 11  PreferredPropertyStar     4862 non-null   float64\n",
      " 12  MaritalStatus             4888 non-null   object \n",
      " 13  NumberOfTrips             4748 non-null   float64\n",
      " 14  Passport                  4888 non-null   int64  \n",
      " 15  PitchSatisfactionScore    4888 non-null   int64  \n",
      " 16  OwnCar                    4888 non-null   int64  \n",
      " 17  NumberOfChildrenVisiting  4822 non-null   float64\n",
      " 18  Designation               4888 non-null   object \n",
      " 19  MonthlyIncome             4655 non-null   float64\n",
      "dtypes: float64(7), int64(7), object(6)\n",
      "memory usage: 763.9+ KB\n"
     ]
    }
   ],
   "source": [
    "df.info()"
   ]
  },
  {
   "cell_type": "code",
   "execution_count": 5,
   "id": "41893069",
   "metadata": {},
   "outputs": [
    {
     "data": {
      "text/plain": [
       "(4888, 20)"
      ]
     },
     "execution_count": 5,
     "metadata": {},
     "output_type": "execute_result"
    }
   ],
   "source": [
    "df.shape"
   ]
  },
  {
   "cell_type": "code",
   "execution_count": 6,
   "id": "db58f27a",
   "metadata": {},
   "outputs": [
    {
     "data": {
      "text/plain": [
       "CustomerID                    0\n",
       "ProdTaken                     0\n",
       "Age                         226\n",
       "TypeofContact                25\n",
       "CityTier                      0\n",
       "DurationOfPitch             251\n",
       "Occupation                    0\n",
       "Gender                        0\n",
       "NumberOfPersonVisiting        0\n",
       "NumberOfFollowups            45\n",
       "ProductPitched                0\n",
       "PreferredPropertyStar        26\n",
       "MaritalStatus                 0\n",
       "NumberOfTrips               140\n",
       "Passport                      0\n",
       "PitchSatisfactionScore        0\n",
       "OwnCar                        0\n",
       "NumberOfChildrenVisiting     66\n",
       "Designation                   0\n",
       "MonthlyIncome               233\n",
       "dtype: int64"
      ]
     },
     "execution_count": 6,
     "metadata": {},
     "output_type": "execute_result"
    }
   ],
   "source": [
    "df.isnull().sum()"
   ]
  },
  {
   "cell_type": "markdown",
   "id": "ebb7820d",
   "metadata": {},
   "source": [
    "# 3. Data Visualization"
   ]
  },
  {
   "cell_type": "code",
   "execution_count": 7,
   "id": "b61d768b",
   "metadata": {},
   "outputs": [],
   "source": [
    "# Drawing a correlation matrix\n",
    "\n",
    "matrix_features = df.select_dtypes(include=[\"int64\", \"float64\"])\n",
    "\n",
    "matrix = matrix_features.corr()"
   ]
  },
  {
   "cell_type": "code",
   "execution_count": 8,
   "id": "4aed315b",
   "metadata": {},
   "outputs": [
    {
     "data": {
      "image/png": "[encoded data removed]",
      "text/plain": [
       "<Figure size 640x480 with 2 Axes>"
      ]
     },
     "metadata": {},
     "output_type": "display_data"
    }
   ],
   "source": [
    "# Draw the heatmap to check the numeric categories influence \n",
    "\n",
    "sns.heatmap(matrix, vmax=.3, center=0,\n",
    "            square=True, linewidths=.5, cmap=\"coolwarm\", cbar_kws={\"shrink\": .5})\n",
    "\n",
    "plt.show()"
   ]
  },
  {
   "cell_type": "code",
   "execution_count": 9,
   "id": "67a5f140",
   "metadata": {
    "scrolled": false
   },
   "outputs": [
    {
     "data": {
      "image/png": "[encoded data removed]",
      "text/plain": [
       "<Figure size 500x400 with 1 Axes>"
      ]
     },
     "metadata": {},
     "output_type": "display_data"
    }
   ],
   "source": [
    "#Plotting histogram to check relationship and influence for the categoric characteristics\n",
    "\n",
    "plt.subplots(figsize=(5,4))\n",
    "\n",
    "sns.countplot(data=df,\n",
    "            x=\"TypeofContact\",\n",
    "            hue=\"ProductPitched\",\n",
    "            palette=\"viridis\"\n",
    "        )\n",
    "\n",
    "plt.xlabel(\"Category of Contact type\", fontsize=8, labelpad=10.0)\n",
    "plt.ylabel(\"\")\n",
    "plt.title(\"Sales according type of contact\", fontsize=10, pad=15.0)\n",
    "plt.tick_params(axis=\"both\", which=\"major\", labelsize=8)\n",
    "plt.show()"
   ]
  },
  {
   "cell_type": "code",
   "execution_count": 10,
   "id": "71b0ffea",
   "metadata": {},
   "outputs": [
    {
     "data": {
      "image/png": "[encoded data removed]",
      "text/plain": [
       "<Figure size 500x400 with 1 Axes>"
      ]
     },
     "metadata": {},
     "output_type": "display_data"
    }
   ],
   "source": [
    "plt.subplots(figsize=(5,4))\n",
    "\n",
    "sns.countplot(data=df,\n",
    "            x=\"Occupation\",\n",
    "            hue=\"ProductPitched\",\n",
    "            palette=\"viridis\"\n",
    "        )\n",
    "\n",
    "plt.xlabel(\"\", fontsize=8, labelpad=10.0)\n",
    "plt.ylabel(\"\")\n",
    "plt.title(\"Sales according client occupation\", fontsize=10, pad=15.0)\n",
    "plt.tick_params(axis=\"both\", which=\"major\", labelsize=8)\n",
    "plt.show()"
   ]
  },
  {
   "cell_type": "code",
   "execution_count": 11,
   "id": "a4da7401",
   "metadata": {
    "scrolled": false
   },
   "outputs": [
    {
     "data": {
      "image/png": "[encoded data removed]",
      "text/plain": [
       "<Figure size 500x400 with 1 Axes>"
      ]
     },
     "metadata": {},
     "output_type": "display_data"
    }
   ],
   "source": [
    "plt.subplots(figsize=(5,4))\n",
    "\n",
    "sns.countplot(data=df,\n",
    "            x=\"MaritalStatus\",\n",
    "            hue=\"ProductPitched\",\n",
    "            palette=\"viridis\"\n",
    "        )\n",
    "\n",
    "plt.xlabel(\"\", fontsize=8, labelpad=10.0)\n",
    "plt.ylabel(\"\")\n",
    "plt.title(\"Sales according Marital status\", fontsize=10, pad=15.0)\n",
    "plt.tick_params(axis=\"both\", which=\"major\", labelsize=8)\n",
    "plt.show()"
   ]
  },
  {
   "cell_type": "code",
   "execution_count": 12,
   "id": "df9eadd6",
   "metadata": {},
   "outputs": [
    {
     "data": {
      "image/png": "[encoded data removed]",
      "text/plain": [
       "<Figure size 500x400 with 1 Axes>"
      ]
     },
     "metadata": {},
     "output_type": "display_data"
    }
   ],
   "source": [
    "#Plotting histogram to check relationship and influence for the categoric characteristics\n",
    "\n",
    "plt.subplots(figsize=(5,4))\n",
    "\n",
    "sns.countplot(data=df,\n",
    "            x=\"Gender\",\n",
    "            hue=\"ProductPitched\",\n",
    "            palette=\"viridis\"\n",
    "        )\n",
    "\n",
    "plt.xlabel(\"\", fontsize=8, labelpad=10.0)\n",
    "plt.ylabel(\"\")\n",
    "plt.title(\"Sales according gender\", fontsize=10, pad=15.0)\n",
    "plt.tick_params(axis=\"both\", which=\"major\", labelsize=8)\n",
    "plt.show()"
   ]
  },
  {
   "cell_type": "code",
   "execution_count": 13,
   "id": "aff44ac3",
   "metadata": {
    "scrolled": false
   },
   "outputs": [
    {
     "data": {
      "image/png": "[encoded data removed]",
      "text/plain": [
       "<Figure size 500x400 with 1 Axes>"
      ]
     },
     "metadata": {},
     "output_type": "display_data"
    }
   ],
   "source": [
    "plt.subplots(figsize=(5,4))\n",
    "\n",
    "sns.countplot(data=df,\n",
    "            x=\"Designation\",\n",
    "            hue=\"ProductPitched\",\n",
    "            palette=\"viridis\"\n",
    "        )\n",
    "\n",
    "plt.xlabel(\"\", fontsize=8, labelpad=10.0)\n",
    "plt.ylabel(\"\")\n",
    "plt.title(\"Sales according job title\", fontsize=10, pad=15.0)\n",
    "plt.tick_params(axis=\"both\", which=\"major\", labelsize=8)\n",
    "plt.show()"
   ]
  },
  {
   "cell_type": "markdown",
   "id": "49aade3f",
   "metadata": {},
   "source": [
    "# 4. Data Preprocessing"
   ]
  },
  {
   "cell_type": "code",
   "execution_count": 14,
   "id": "17c4efbe",
   "metadata": {},
   "outputs": [
    {
     "data": {
      "text/plain": [
       "(4888, 17)"
      ]
     },
     "execution_count": 14,
     "metadata": {},
     "output_type": "execute_result"
    }
   ],
   "source": [
    "#Handling missing values\n",
    "\n",
    "#Dropping unnecessary columns\n",
    "\n",
    "df_new = df.drop(columns=[\"CustomerID\", \"ProdTaken\", \"Designation\"])\n",
    "df_new.shape"
   ]
  },
  {
   "cell_type": "code",
   "execution_count": 15,
   "id": "cb14c4c4",
   "metadata": {},
   "outputs": [
    {
     "name": "stdout",
     "output_type": "stream",
     "text": [
      "df (4888, 17)\n",
      "df_train (3910, 17)\n",
      "df_test (978, 17)\n"
     ]
    }
   ],
   "source": [
    "#Splitting the data into training and test data\n",
    "\n",
    "import sklearn.model_selection\n",
    "\n",
    "df_train, df_test = sklearn.model_selection.train_test_split(df_new, test_size=0.2)\n",
    "\n",
    "print(\"df\", df_new.shape)\n",
    "print(\"df_train\", df_train.shape)\n",
    "print(\"df_test\", df_test.shape)"
   ]
  },
  {
   "cell_type": "code",
   "execution_count": 16,
   "id": "a4eb1ea5",
   "metadata": {},
   "outputs": [
    {
     "name": "stdout",
     "output_type": "stream",
     "text": [
      "df_train (3292, 17)\n",
      "df_test (836, 17)\n"
     ]
    }
   ],
   "source": [
    "#Eliminating the rows with NaN values\n",
    "\n",
    "df_train = df_train.dropna() #to drop we need to redefine the call function\n",
    "df_test = df_test.dropna()\n",
    "\n",
    "print(\"df_train\", df_train.shape)\n",
    "print(\"df_test\", df_test.shape)"
   ]
  },
  {
   "cell_type": "code",
   "execution_count": 17,
   "id": "75456f3a",
   "metadata": {},
   "outputs": [
    {
     "name": "stdout",
     "output_type": "stream",
     "text": [
      "x_train (3292, 16)\n",
      "y_train (3292,)\n",
      "x_test (836, 16)\n",
      "y_test (836,)\n"
     ]
    }
   ],
   "source": [
    "#Defining the variables\n",
    "\n",
    "x_train = df_train.drop(\"ProductPitched\", axis=1)\n",
    "y_train = df_train[\"ProductPitched\"]\n",
    "x_test = df_test.drop(\"ProductPitched\", axis=1)\n",
    "y_test = df_test[\"ProductPitched\"]\n",
    "\n",
    "print(\"x_train\", x_train.shape)\n",
    "print(\"y_train\", y_train.shape)\n",
    "print(\"x_test\", x_test.shape)\n",
    "print(\"y_test\", y_test.shape)"
   ]
  },
  {
   "cell_type": "markdown",
   "id": "7794e78e",
   "metadata": {},
   "source": [
    "# 5. Feature engineering"
   ]
  },
  {
   "cell_type": "code",
   "execution_count": 18,
   "id": "aea36ab0",
   "metadata": {},
   "outputs": [],
   "source": [
    "#Encoding the categorical features\n",
    "\n",
    "from sklearn.compose import ColumnTransformer\n",
    "from sklearn.preprocessing import StandardScaler, OneHotEncoder\n",
    "\n",
    "categorical_features = x_train.select_dtypes(include=[\"object\",\"category\"]).columns.tolist()\n",
    "numerical_features = x_train.select_dtypes(include=[\"int64\", \"float64\"]).columns.tolist()\n",
    "\n",
    "categorical_transformer = OneHotEncoder(handle_unknown='ignore', sparse=False)\n",
    "\n",
    "preprocessor = ColumnTransformer(\n",
    "    transformers=[\n",
    "        ('num', StandardScaler(), numerical_features),\n",
    "        ('cat', categorical_transformer, categorical_features)\n",
    "    ],\n",
    ")\n",
    "\n",
    "x_train_preprocessed = preprocessor.fit_transform(x_train)\n",
    "x_test_preprocessed = preprocessor.transform(x_test)"
   ]
  },
  {
   "cell_type": "code",
   "execution_count": 19,
   "id": "b13b0fa9",
   "metadata": {},
   "outputs": [],
   "source": [
    "feature_names = preprocessor.get_feature_names_out()\n",
    "x_train_df = pd.DataFrame(x_train_preprocessed, columns=feature_names)\n",
    "x_test_df = pd.DataFrame(x_test_preprocessed, columns=feature_names)"
   ]
  },
  {
   "cell_type": "code",
   "execution_count": 20,
   "id": "b439c4a3",
   "metadata": {},
   "outputs": [
    {
     "data": {
      "text/html": [
       "<div>\n",
       "<style scoped>\n",
       "    .dataframe tbody tr th:only-of-type {\n",
       "        vertical-align: middle;\n",
       "    }\n",
       "\n",
       "    .dataframe tbody tr th {\n",
       "        vertical-align: top;\n",
       "    }\n",
       "\n",
       "    .dataframe thead th {\n",
       "        text-align: right;\n",
       "    }\n",
       "</style>\n",
       "<table border=\"1\" class=\"dataframe\">\n",
       "  <thead>\n",
       "    <tr style=\"text-align: right;\">\n",
       "      <th></th>\n",
       "      <th>num__Age</th>\n",
       "      <th>num__CityTier</th>\n",
       "      <th>num__DurationOfPitch</th>\n",
       "      <th>num__NumberOfPersonVisiting</th>\n",
       "      <th>num__NumberOfFollowups</th>\n",
       "      <th>num__PreferredPropertyStar</th>\n",
       "      <th>num__NumberOfTrips</th>\n",
       "      <th>num__Passport</th>\n",
       "      <th>num__PitchSatisfactionScore</th>\n",
       "      <th>num__OwnCar</th>\n",
       "      <th>...</th>\n",
       "      <th>cat__Occupation_Large Business</th>\n",
       "      <th>cat__Occupation_Salaried</th>\n",
       "      <th>cat__Occupation_Small Business</th>\n",
       "      <th>cat__Gender_Fe Male</th>\n",
       "      <th>cat__Gender_Female</th>\n",
       "      <th>cat__Gender_Male</th>\n",
       "      <th>cat__MaritalStatus_Divorced</th>\n",
       "      <th>cat__MaritalStatus_Married</th>\n",
       "      <th>cat__MaritalStatus_Single</th>\n",
       "      <th>cat__MaritalStatus_Unmarried</th>\n",
       "    </tr>\n",
       "  </thead>\n",
       "  <tbody>\n",
       "    <tr>\n",
       "      <th>count</th>\n",
       "      <td>3.292000e+03</td>\n",
       "      <td>3.292000e+03</td>\n",
       "      <td>3.292000e+03</td>\n",
       "      <td>3.292000e+03</td>\n",
       "      <td>3.292000e+03</td>\n",
       "      <td>3.292000e+03</td>\n",
       "      <td>3.292000e+03</td>\n",
       "      <td>3.292000e+03</td>\n",
       "      <td>3.292000e+03</td>\n",
       "      <td>3.292000e+03</td>\n",
       "      <td>...</td>\n",
       "      <td>3292.00000</td>\n",
       "      <td>3292.000000</td>\n",
       "      <td>3292.000000</td>\n",
       "      <td>3292.000000</td>\n",
       "      <td>3292.000000</td>\n",
       "      <td>3292.000000</td>\n",
       "      <td>3292.000000</td>\n",
       "      <td>3292.000000</td>\n",
       "      <td>3292.000000</td>\n",
       "      <td>3292.000000</td>\n",
       "    </tr>\n",
       "    <tr>\n",
       "      <th>mean</th>\n",
       "      <td>-3.108085e-16</td>\n",
       "      <td>-8.849408e-17</td>\n",
       "      <td>-4.910342e-17</td>\n",
       "      <td>-2.482151e-16</td>\n",
       "      <td>6.043498e-17</td>\n",
       "      <td>-3.237588e-17</td>\n",
       "      <td>1.251868e-16</td>\n",
       "      <td>1.510875e-17</td>\n",
       "      <td>8.417730e-17</td>\n",
       "      <td>1.478499e-16</td>\n",
       "      <td>...</td>\n",
       "      <td>0.09356</td>\n",
       "      <td>0.486330</td>\n",
       "      <td>0.419502</td>\n",
       "      <td>0.039186</td>\n",
       "      <td>0.361786</td>\n",
       "      <td>0.599028</td>\n",
       "      <td>0.188032</td>\n",
       "      <td>0.481774</td>\n",
       "      <td>0.163123</td>\n",
       "      <td>0.167072</td>\n",
       "    </tr>\n",
       "    <tr>\n",
       "      <th>std</th>\n",
       "      <td>1.000152e+00</td>\n",
       "      <td>1.000152e+00</td>\n",
       "      <td>1.000152e+00</td>\n",
       "      <td>1.000152e+00</td>\n",
       "      <td>1.000152e+00</td>\n",
       "      <td>1.000152e+00</td>\n",
       "      <td>1.000152e+00</td>\n",
       "      <td>1.000152e+00</td>\n",
       "      <td>1.000152e+00</td>\n",
       "      <td>1.000152e+00</td>\n",
       "      <td>...</td>\n",
       "      <td>0.29126</td>\n",
       "      <td>0.499889</td>\n",
       "      <td>0.493552</td>\n",
       "      <td>0.194067</td>\n",
       "      <td>0.480590</td>\n",
       "      <td>0.490170</td>\n",
       "      <td>0.390797</td>\n",
       "      <td>0.499744</td>\n",
       "      <td>0.369534</td>\n",
       "      <td>0.373097</td>\n",
       "    </tr>\n",
       "    <tr>\n",
       "      <th>min</th>\n",
       "      <td>-2.115036e+00</td>\n",
       "      <td>-7.205355e-01</td>\n",
       "      <td>-1.254968e+00</td>\n",
       "      <td>-2.752402e+00</td>\n",
       "      <td>-2.695064e+00</td>\n",
       "      <td>-7.266062e-01</td>\n",
       "      <td>-1.247073e+00</td>\n",
       "      <td>-6.534229e-01</td>\n",
       "      <td>-1.520749e+00</td>\n",
       "      <td>-1.256152e+00</td>\n",
       "      <td>...</td>\n",
       "      <td>0.00000</td>\n",
       "      <td>0.000000</td>\n",
       "      <td>0.000000</td>\n",
       "      <td>0.000000</td>\n",
       "      <td>0.000000</td>\n",
       "      <td>0.000000</td>\n",
       "      <td>0.000000</td>\n",
       "      <td>0.000000</td>\n",
       "      <td>0.000000</td>\n",
       "      <td>0.000000</td>\n",
       "    </tr>\n",
       "    <tr>\n",
       "      <th>25%</th>\n",
       "      <td>-6.809747e-01</td>\n",
       "      <td>-7.205355e-01</td>\n",
       "      <td>-7.819753e-01</td>\n",
       "      <td>-1.349785e+00</td>\n",
       "      <td>-7.247884e-01</td>\n",
       "      <td>-7.266062e-01</td>\n",
       "      <td>-7.064667e-01</td>\n",
       "      <td>-6.534229e-01</td>\n",
       "      <td>-7.871168e-01</td>\n",
       "      <td>-1.256152e+00</td>\n",
       "      <td>...</td>\n",
       "      <td>0.00000</td>\n",
       "      <td>0.000000</td>\n",
       "      <td>0.000000</td>\n",
       "      <td>0.000000</td>\n",
       "      <td>0.000000</td>\n",
       "      <td>0.000000</td>\n",
       "      <td>0.000000</td>\n",
       "      <td>0.000000</td>\n",
       "      <td>0.000000</td>\n",
       "      <td>0.000000</td>\n",
       "    </tr>\n",
       "    <tr>\n",
       "      <th>50%</th>\n",
       "      <td>-1.294127e-01</td>\n",
       "      <td>-7.205355e-01</td>\n",
       "      <td>-1.907344e-01</td>\n",
       "      <td>5.283249e-02</td>\n",
       "      <td>2.603493e-01</td>\n",
       "      <td>-7.266062e-01</td>\n",
       "      <td>-1.658604e-01</td>\n",
       "      <td>-6.534229e-01</td>\n",
       "      <td>-5.348472e-02</td>\n",
       "      <td>7.960822e-01</td>\n",
       "      <td>...</td>\n",
       "      <td>0.00000</td>\n",
       "      <td>0.000000</td>\n",
       "      <td>0.000000</td>\n",
       "      <td>0.000000</td>\n",
       "      <td>0.000000</td>\n",
       "      <td>1.000000</td>\n",
       "      <td>0.000000</td>\n",
       "      <td>0.000000</td>\n",
       "      <td>0.000000</td>\n",
       "      <td>0.000000</td>\n",
       "    </tr>\n",
       "    <tr>\n",
       "      <th>75%</th>\n",
       "      <td>6.427742e-01</td>\n",
       "      <td>1.453619e+00</td>\n",
       "      <td>6.370028e-01</td>\n",
       "      <td>5.283249e-02</td>\n",
       "      <td>2.603493e-01</td>\n",
       "      <td>5.316724e-01</td>\n",
       "      <td>3.747459e-01</td>\n",
       "      <td>1.530403e+00</td>\n",
       "      <td>6.801474e-01</td>\n",
       "      <td>7.960822e-01</td>\n",
       "      <td>...</td>\n",
       "      <td>0.00000</td>\n",
       "      <td>1.000000</td>\n",
       "      <td>1.000000</td>\n",
       "      <td>0.000000</td>\n",
       "      <td>1.000000</td>\n",
       "      <td>1.000000</td>\n",
       "      <td>0.000000</td>\n",
       "      <td>1.000000</td>\n",
       "      <td>0.000000</td>\n",
       "      <td>0.000000</td>\n",
       "    </tr>\n",
       "    <tr>\n",
       "      <th>max</th>\n",
       "      <td>2.628397e+00</td>\n",
       "      <td>1.453619e+00</td>\n",
       "      <td>1.317131e+01</td>\n",
       "      <td>2.858067e+00</td>\n",
       "      <td>2.230625e+00</td>\n",
       "      <td>1.789951e+00</td>\n",
       "      <td>1.010566e+01</td>\n",
       "      <td>1.530403e+00</td>\n",
       "      <td>1.413779e+00</td>\n",
       "      <td>7.960822e-01</td>\n",
       "      <td>...</td>\n",
       "      <td>1.00000</td>\n",
       "      <td>1.000000</td>\n",
       "      <td>1.000000</td>\n",
       "      <td>1.000000</td>\n",
       "      <td>1.000000</td>\n",
       "      <td>1.000000</td>\n",
       "      <td>1.000000</td>\n",
       "      <td>1.000000</td>\n",
       "      <td>1.000000</td>\n",
       "      <td>1.000000</td>\n",
       "    </tr>\n",
       "  </tbody>\n",
       "</table>\n",
       "<p>8 rows × 25 columns</p>\n",
       "</div>"
      ],
      "text/plain": [
       "           num__Age  num__CityTier  num__DurationOfPitch  \\\n",
       "count  3.292000e+03   3.292000e+03          3.292000e+03   \n",
       "mean  -3.108085e-16  -8.849408e-17         -4.910342e-17   \n",
       "std    1.000152e+00   1.000152e+00          1.000152e+00   \n",
       "min   -2.115036e+00  -7.205355e-01         -1.254968e+00   \n",
       "25%   -6.809747e-01  -7.205355e-01         -7.819753e-01   \n",
       "50%   -1.294127e-01  -7.205355e-01         -1.907344e-01   \n",
       "75%    6.427742e-01   1.453619e+00          6.370028e-01   \n",
       "max    2.628397e+00   1.453619e+00          1.317131e+01   \n",
       "\n",
       "       num__NumberOfPersonVisiting  num__NumberOfFollowups  \\\n",
       "count                 3.292000e+03            3.292000e+03   \n",
       "mean                 -2.482151e-16            6.043498e-17   \n",
       "std                   1.000152e+00            1.000152e+00   \n",
       "min                  -2.752402e+00           -2.695064e+00   \n",
       "25%                  -1.349785e+00           -7.247884e-01   \n",
       "50%                   5.283249e-02            2.603493e-01   \n",
       "75%                   5.283249e-02            2.603493e-01   \n",
       "max                   2.858067e+00            2.230625e+00   \n",
       "\n",
       "       num__PreferredPropertyStar  num__NumberOfTrips  num__Passport  \\\n",
       "count                3.292000e+03        3.292000e+03   3.292000e+03   \n",
       "mean                -3.237588e-17        1.251868e-16   1.510875e-17   \n",
       "std                  1.000152e+00        1.000152e+00   1.000152e+00   \n",
       "min                 -7.266062e-01       -1.247073e+00  -6.534229e-01   \n",
       "25%                 -7.266062e-01       -7.064667e-01  -6.534229e-01   \n",
       "50%                 -7.266062e-01       -1.658604e-01  -6.534229e-01   \n",
       "75%                  5.316724e-01        3.747459e-01   1.530403e+00   \n",
       "max                  1.789951e+00        1.010566e+01   1.530403e+00   \n",
       "\n",
       "       num__PitchSatisfactionScore   num__OwnCar  ...  \\\n",
       "count                 3.292000e+03  3.292000e+03  ...   \n",
       "mean                  8.417730e-17  1.478499e-16  ...   \n",
       "std                   1.000152e+00  1.000152e+00  ...   \n",
       "min                  -1.520749e+00 -1.256152e+00  ...   \n",
       "25%                  -7.871168e-01 -1.256152e+00  ...   \n",
       "50%                  -5.348472e-02  7.960822e-01  ...   \n",
       "75%                   6.801474e-01  7.960822e-01  ...   \n",
       "max                   1.413779e+00  7.960822e-01  ...   \n",
       "\n",
       "       cat__Occupation_Large Business  cat__Occupation_Salaried  \\\n",
       "count                      3292.00000               3292.000000   \n",
       "mean                          0.09356                  0.486330   \n",
       "std                           0.29126                  0.499889   \n",
       "min                           0.00000                  0.000000   \n",
       "25%                           0.00000                  0.000000   \n",
       "50%                           0.00000                  0.000000   \n",
       "75%                           0.00000                  1.000000   \n",
       "max                           1.00000                  1.000000   \n",
       "\n",
       "       cat__Occupation_Small Business  cat__Gender_Fe Male  \\\n",
       "count                     3292.000000          3292.000000   \n",
       "mean                         0.419502             0.039186   \n",
       "std                          0.493552             0.194067   \n",
       "min                          0.000000             0.000000   \n",
       "25%                          0.000000             0.000000   \n",
       "50%                          0.000000             0.000000   \n",
       "75%                          1.000000             0.000000   \n",
       "max                          1.000000             1.000000   \n",
       "\n",
       "       cat__Gender_Female  cat__Gender_Male  cat__MaritalStatus_Divorced  \\\n",
       "count         3292.000000       3292.000000                  3292.000000   \n",
       "mean             0.361786          0.599028                     0.188032   \n",
       "std              0.480590          0.490170                     0.390797   \n",
       "min              0.000000          0.000000                     0.000000   \n",
       "25%              0.000000          0.000000                     0.000000   \n",
       "50%              0.000000          1.000000                     0.000000   \n",
       "75%              1.000000          1.000000                     0.000000   \n",
       "max              1.000000          1.000000                     1.000000   \n",
       "\n",
       "       cat__MaritalStatus_Married  cat__MaritalStatus_Single  \\\n",
       "count                 3292.000000                3292.000000   \n",
       "mean                     0.481774                   0.163123   \n",
       "std                      0.499744                   0.369534   \n",
       "min                      0.000000                   0.000000   \n",
       "25%                      0.000000                   0.000000   \n",
       "50%                      0.000000                   0.000000   \n",
       "75%                      1.000000                   0.000000   \n",
       "max                      1.000000                   1.000000   \n",
       "\n",
       "       cat__MaritalStatus_Unmarried  \n",
       "count                   3292.000000  \n",
       "mean                       0.167072  \n",
       "std                        0.373097  \n",
       "min                        0.000000  \n",
       "25%                        0.000000  \n",
       "50%                        0.000000  \n",
       "75%                        0.000000  \n",
       "max                        1.000000  \n",
       "\n",
       "[8 rows x 25 columns]"
      ]
     },
     "execution_count": 20,
     "metadata": {},
     "output_type": "execute_result"
    }
   ],
   "source": [
    "x_train_df.describe()"
   ]
  },
  {
   "cell_type": "code",
   "execution_count": 21,
   "id": "e49ab1d6",
   "metadata": {},
   "outputs": [],
   "source": [
    "#Using LabelEncoder to adjust our target properly \n",
    "\n",
    "from sklearn.preprocessing import LabelEncoder\n",
    "\n",
    "le = LabelEncoder()\n",
    "y_train_le = le.fit_transform(y_train)\n",
    "y_test_le = le.fit_transform(y_test)"
   ]
  },
  {
   "cell_type": "code",
   "execution_count": 22,
   "id": "d6145275",
   "metadata": {
    "scrolled": true
   },
   "outputs": [
    {
     "name": "stdout",
     "output_type": "stream",
     "text": [
      "Before LabelEncoder, unique values in y_train: ['Basic' 'Deluxe' 'Standard' 'Super Deluxe' 'King']\n",
      "After LabelEncoder, unique values in y_train: {0, 1, 2, 3, 4}\n",
      "Class distribution after LabelEncoder: [1286 1125   81  593  207]\n"
     ]
    }
   ],
   "source": [
    "print(\"Before LabelEncoder, unique values in y_train:\", y_train.unique())\n",
    "print(\"After LabelEncoder, unique values in y_train:\", set(y_train_le))\n",
    "print(\"Class distribution after LabelEncoder:\", np.bincount(y_train_le))"
   ]
  },
  {
   "cell_type": "code",
   "execution_count": 23,
   "id": "d9c486df",
   "metadata": {},
   "outputs": [
    {
     "name": "stdout",
     "output_type": "stream",
     "text": [
      "Before OverSampling, the shape of train_X: (3292, 16)\n",
      "Before OverSampling, the shape of train_y: (3292,) \n",
      "\n",
      "Before OverSampling, counts of label '1': 0\n",
      "Before OverSampling, counts of label '0': 0 \n",
      "\n"
     ]
    }
   ],
   "source": [
    "print('Before OverSampling, the shape of train_X: {}'.format(x_train.shape))\n",
    "print('Before OverSampling, the shape of train_y: {} \\n'.format(y_train.shape))\n",
    "\n",
    "print(\"Before OverSampling, counts of label '1': {}\".format(sum(y_train == 1)))\n",
    "print(\"Before OverSampling, counts of label '0': {} \\n\".format(sum(y_train == 0)))"
   ]
  },
  {
   "cell_type": "code",
   "execution_count": 24,
   "id": "aae98164",
   "metadata": {},
   "outputs": [],
   "source": [
    "#Oversampling the data in order to handle the imbalanced data with SMOTE\n",
    "\n",
    "from imblearn.over_sampling import SMOTE\n",
    "\n",
    "sm = SMOTE(random_state=42)\n",
    "x_train_sm, y_train_sm = sm.fit_resample(x_train_preprocessed, y_train_le.ravel())"
   ]
  },
  {
   "cell_type": "code",
   "execution_count": 25,
   "id": "9b1d04f0",
   "metadata": {},
   "outputs": [
    {
     "name": "stdout",
     "output_type": "stream",
     "text": [
      "After OverSampling, the shape of train_X: (6430, 25)\n",
      "After OverSampling, the shape of train_y: (6430,) \n",
      "\n",
      "After OverSampling, counts of label '1': 1286\n",
      "After OverSampling, counts of label '0': 1286\n"
     ]
    }
   ],
   "source": [
    "print('After OverSampling, the shape of train_X: {}'.format(x_train_sm.shape))\n",
    "print('After OverSampling, the shape of train_y: {} \\n'.format(y_train_sm.shape))\n",
    "\n",
    "print(\"After OverSampling, counts of label '1': {}\".format(sum(y_train_sm == 1)))\n",
    "print(\"After OverSampling, counts of label '0': {}\".format(sum(y_train_sm == 0)))"
   ]
  },
  {
   "cell_type": "markdown",
   "id": "d700274e",
   "metadata": {},
   "source": [
    "# 6. Model Training "
   ]
  },
  {
   "cell_type": "code",
   "execution_count": 26,
   "id": "f05f0a0b",
   "metadata": {},
   "outputs": [
    {
     "name": "stdout",
     "output_type": "stream",
     "text": [
      "Best parameters:  {'max_depth': 15, 'min_samples_leaf': 1, 'min_samples_split': 2}\n",
      "Best accuracy score:  0.8940902021772938\n"
     ]
    },
    {
     "data": {
      "text/html": [
       "<style>#sk-container-id-1 {color: black;background-color: white;}#sk-container-id-1 pre{padding: 0;}#sk-container-id-1 div.sk-toggleable {background-color: white;}#sk-container-id-1 label.sk-toggleable__label {cursor: pointer;display: block;width: 100%;margin-bottom: 0;padding: 0.3em;box-sizing: border-box;text-align: center;}#sk-container-id-1 label.sk-toggleable__label-arrow:before {content: \"▸\";float: left;margin-right: 0.25em;color: #696969;}#sk-container-id-1 label.sk-toggleable__label-arrow:hover:before {color: black;}#sk-container-id-1 div.sk-estimator:hover label.sk-toggleable__label-arrow:before {color: black;}#sk-container-id-1 div.sk-toggleable__content {max-height: 0;max-width: 0;overflow: hidden;text-align: left;background-color: #f0f8ff;}#sk-container-id-1 div.sk-toggleable__content pre {margin: 0.2em;color: black;border-radius: 0.25em;background-color: #f0f8ff;}#sk-container-id-1 input.sk-toggleable__control:checked~div.sk-toggleable__content {max-height: 200px;max-width: 100%;overflow: auto;}#sk-container-id-1 input.sk-toggleable__control:checked~label.sk-toggleable__label-arrow:before {content: \"▾\";}#sk-container-id-1 div.sk-estimator input.sk-toggleable__control:checked~label.sk-toggleable__label {background-color: #d4ebff;}#sk-container-id-1 div.sk-label input.sk-toggleable__control:checked~label.sk-toggleable__label {background-color: #d4ebff;}#sk-container-id-1 input.sk-hidden--visually {border: 0;clip: rect(1px 1px 1px 1px);clip: rect(1px, 1px, 1px, 1px);height: 1px;margin: -1px;overflow: hidden;padding: 0;position: absolute;width: 1px;}#sk-container-id-1 div.sk-estimator {font-family: monospace;background-color: #f0f8ff;border: 1px dotted black;border-radius: 0.25em;box-sizing: border-box;margin-bottom: 0.5em;}#sk-container-id-1 div.sk-estimator:hover {background-color: #d4ebff;}#sk-container-id-1 div.sk-parallel-item::after {content: \"\";width: 100%;border-bottom: 1px solid gray;flex-grow: 1;}#sk-container-id-1 div.sk-label:hover label.sk-toggleable__label {background-color: #d4ebff;}#sk-container-id-1 div.sk-serial::before {content: \"\";position: absolute;border-left: 1px solid gray;box-sizing: border-box;top: 0;bottom: 0;left: 50%;z-index: 0;}#sk-container-id-1 div.sk-serial {display: flex;flex-direction: column;align-items: center;background-color: white;padding-right: 0.2em;padding-left: 0.2em;position: relative;}#sk-container-id-1 div.sk-item {position: relative;z-index: 1;}#sk-container-id-1 div.sk-parallel {display: flex;align-items: stretch;justify-content: center;background-color: white;position: relative;}#sk-container-id-1 div.sk-item::before, #sk-container-id-1 div.sk-parallel-item::before {content: \"\";position: absolute;border-left: 1px solid gray;box-sizing: border-box;top: 0;bottom: 0;left: 50%;z-index: -1;}#sk-container-id-1 div.sk-parallel-item {display: flex;flex-direction: column;z-index: 1;position: relative;background-color: white;}#sk-container-id-1 div.sk-parallel-item:first-child::after {align-self: flex-end;width: 50%;}#sk-container-id-1 div.sk-parallel-item:last-child::after {align-self: flex-start;width: 50%;}#sk-container-id-1 div.sk-parallel-item:only-child::after {width: 0;}#sk-container-id-1 div.sk-dashed-wrapped {border: 1px dashed gray;margin: 0 0.4em 0.5em 0.4em;box-sizing: border-box;padding-bottom: 0.4em;background-color: white;}#sk-container-id-1 div.sk-label label {font-family: monospace;font-weight: bold;display: inline-block;line-height: 1.2em;}#sk-container-id-1 div.sk-label-container {text-align: center;}#sk-container-id-1 div.sk-container {/* jupyter's `normalize.less` sets `[hidden] { display: none; }` but bootstrap.min.css set `[hidden] { display: none !important; }` so we also need the `!important` here to be able to override the default hidden behavior on the sphinx rendered scikit-learn.org. See: https://github.com/scikit-learn/scikit-learn/issues/21755 */display: inline-block !important;position: relative;}#sk-container-id-1 div.sk-text-repr-fallback {display: none;}</style><div id=\"sk-container-id-1\" class=\"sk-top-container\"><div class=\"sk-text-repr-fallback\"><pre>DecisionTreeClassifier(max_depth=15, random_state=42)</pre><b>In a Jupyter environment, please rerun this cell to show the HTML representation or trust the notebook. <br />On GitHub, the HTML representation is unable to render, please try loading this page with nbviewer.org.</b></div><div class=\"sk-container\" hidden><div class=\"sk-item\"><div class=\"sk-estimator sk-toggleable\"><input class=\"sk-toggleable__control sk-hidden--visually\" id=\"sk-estimator-id-1\" type=\"checkbox\" checked><label for=\"sk-estimator-id-1\" class=\"sk-toggleable__label sk-toggleable__label-arrow\">DecisionTreeClassifier</label><div class=\"sk-toggleable__content\"><pre>DecisionTreeClassifier(max_depth=15, random_state=42)</pre></div></div></div></div></div>"
      ],
      "text/plain": [
       "DecisionTreeClassifier(max_depth=15, random_state=42)"
      ]
     },
     "execution_count": 26,
     "metadata": {},
     "output_type": "execute_result"
    }
   ],
   "source": [
    "#Experiment number 1 using DecistionTreeClassifier\n",
    "\n",
    "import sklearn.model_selection\n",
    "import sklearn.ensemble\n",
    "\n",
    "param_grid = {\n",
    "    \"max_depth\": [3, 5, 7, 10, 15, 20],\n",
    "    \"min_samples_split\": [2, 5, 10, 15],\n",
    "    \"min_samples_leaf\": [1, 2, 4, 6, 8, 10]\n",
    "}\n",
    "\n",
    "dt = sklearn.tree.DecisionTreeClassifier(random_state=42)\n",
    "\n",
    "grid_search = sklearn.model_selection.GridSearchCV(dt, param_grid, cv=5, scoring=\"accuracy\")\n",
    "grid_search.fit(x_train_sm, y_train_sm)\n",
    "\n",
    "print(\"Best parameters: \", grid_search.best_params_)\n",
    "print(\"Best accuracy score: \", grid_search.best_score_)\n",
    "\n",
    "best_dt = grid_search.best_estimator_\n",
    "best_dt.fit(x_train_sm, y_train_sm)"
   ]
  },
  {
   "cell_type": "code",
   "execution_count": 27,
   "id": "6328b03a",
   "metadata": {},
   "outputs": [
    {
     "name": "stdout",
     "output_type": "stream",
     "text": [
      "Cross-validation scores: [0.88958009 0.88024883 0.90902022 0.89968896 0.89191291]\n",
      "Mean Accuracy: 0.8940902021772938\n"
     ]
    }
   ],
   "source": [
    "# checking cross validation score\n",
    "\n",
    "from sklearn.model_selection import cross_val_score, StratifiedKFold\n",
    "\n",
    "scores = cross_val_score(best_dt, x_train_sm, y_train_sm, cv=5, scoring='accuracy')\n",
    "\n",
    "print(\"Cross-validation scores:\", scores)\n",
    "print(\"Mean Accuracy:\", scores.mean())"
   ]
  },
  {
   "cell_type": "code",
   "execution_count": 28,
   "id": "3baaf4bf",
   "metadata": {},
   "outputs": [
    {
     "name": "stdout",
     "output_type": "stream",
     "text": [
      "Best parameters:  {'max_depth': None, 'n_estimators': 200}\n",
      "Best accuracy score:  0.9460342146189735\n"
     ]
    },
    {
     "data": {
      "text/html": [
       "<style>#sk-container-id-2 {color: black;background-color: white;}#sk-container-id-2 pre{padding: 0;}#sk-container-id-2 div.sk-toggleable {background-color: white;}#sk-container-id-2 label.sk-toggleable__label {cursor: pointer;display: block;width: 100%;margin-bottom: 0;padding: 0.3em;box-sizing: border-box;text-align: center;}#sk-container-id-2 label.sk-toggleable__label-arrow:before {content: \"▸\";float: left;margin-right: 0.25em;color: #696969;}#sk-container-id-2 label.sk-toggleable__label-arrow:hover:before {color: black;}#sk-container-id-2 div.sk-estimator:hover label.sk-toggleable__label-arrow:before {color: black;}#sk-container-id-2 div.sk-toggleable__content {max-height: 0;max-width: 0;overflow: hidden;text-align: left;background-color: #f0f8ff;}#sk-container-id-2 div.sk-toggleable__content pre {margin: 0.2em;color: black;border-radius: 0.25em;background-color: #f0f8ff;}#sk-container-id-2 input.sk-toggleable__control:checked~div.sk-toggleable__content {max-height: 200px;max-width: 100%;overflow: auto;}#sk-container-id-2 input.sk-toggleable__control:checked~label.sk-toggleable__label-arrow:before {content: \"▾\";}#sk-container-id-2 div.sk-estimator input.sk-toggleable__control:checked~label.sk-toggleable__label {background-color: #d4ebff;}#sk-container-id-2 div.sk-label input.sk-toggleable__control:checked~label.sk-toggleable__label {background-color: #d4ebff;}#sk-container-id-2 input.sk-hidden--visually {border: 0;clip: rect(1px 1px 1px 1px);clip: rect(1px, 1px, 1px, 1px);height: 1px;margin: -1px;overflow: hidden;padding: 0;position: absolute;width: 1px;}#sk-container-id-2 div.sk-estimator {font-family: monospace;background-color: #f0f8ff;border: 1px dotted black;border-radius: 0.25em;box-sizing: border-box;margin-bottom: 0.5em;}#sk-container-id-2 div.sk-estimator:hover {background-color: #d4ebff;}#sk-container-id-2 div.sk-parallel-item::after {content: \"\";width: 100%;border-bottom: 1px solid gray;flex-grow: 1;}#sk-container-id-2 div.sk-label:hover label.sk-toggleable__label {background-color: #d4ebff;}#sk-container-id-2 div.sk-serial::before {content: \"\";position: absolute;border-left: 1px solid gray;box-sizing: border-box;top: 0;bottom: 0;left: 50%;z-index: 0;}#sk-container-id-2 div.sk-serial {display: flex;flex-direction: column;align-items: center;background-color: white;padding-right: 0.2em;padding-left: 0.2em;position: relative;}#sk-container-id-2 div.sk-item {position: relative;z-index: 1;}#sk-container-id-2 div.sk-parallel {display: flex;align-items: stretch;justify-content: center;background-color: white;position: relative;}#sk-container-id-2 div.sk-item::before, #sk-container-id-2 div.sk-parallel-item::before {content: \"\";position: absolute;border-left: 1px solid gray;box-sizing: border-box;top: 0;bottom: 0;left: 50%;z-index: -1;}#sk-container-id-2 div.sk-parallel-item {display: flex;flex-direction: column;z-index: 1;position: relative;background-color: white;}#sk-container-id-2 div.sk-parallel-item:first-child::after {align-self: flex-end;width: 50%;}#sk-container-id-2 div.sk-parallel-item:last-child::after {align-self: flex-start;width: 50%;}#sk-container-id-2 div.sk-parallel-item:only-child::after {width: 0;}#sk-container-id-2 div.sk-dashed-wrapped {border: 1px dashed gray;margin: 0 0.4em 0.5em 0.4em;box-sizing: border-box;padding-bottom: 0.4em;background-color: white;}#sk-container-id-2 div.sk-label label {font-family: monospace;font-weight: bold;display: inline-block;line-height: 1.2em;}#sk-container-id-2 div.sk-label-container {text-align: center;}#sk-container-id-2 div.sk-container {/* jupyter's `normalize.less` sets `[hidden] { display: none; }` but bootstrap.min.css set `[hidden] { display: none !important; }` so we also need the `!important` here to be able to override the default hidden behavior on the sphinx rendered scikit-learn.org. See: https://github.com/scikit-learn/scikit-learn/issues/21755 */display: inline-block !important;position: relative;}#sk-container-id-2 div.sk-text-repr-fallback {display: none;}</style><div id=\"sk-container-id-2\" class=\"sk-top-container\"><div class=\"sk-text-repr-fallback\"><pre>RandomForestClassifier(n_estimators=200, random_state=42)</pre><b>In a Jupyter environment, please rerun this cell to show the HTML representation or trust the notebook. <br />On GitHub, the HTML representation is unable to render, please try loading this page with nbviewer.org.</b></div><div class=\"sk-container\" hidden><div class=\"sk-item\"><div class=\"sk-estimator sk-toggleable\"><input class=\"sk-toggleable__control sk-hidden--visually\" id=\"sk-estimator-id-2\" type=\"checkbox\" checked><label for=\"sk-estimator-id-2\" class=\"sk-toggleable__label sk-toggleable__label-arrow\">RandomForestClassifier</label><div class=\"sk-toggleable__content\"><pre>RandomForestClassifier(n_estimators=200, random_state=42)</pre></div></div></div></div></div>"
      ],
      "text/plain": [
       "RandomForestClassifier(n_estimators=200, random_state=42)"
      ]
     },
     "execution_count": 28,
     "metadata": {},
     "output_type": "execute_result"
    }
   ],
   "source": [
    "#Experiment number 2 using Random Forest classifier \n",
    "\n",
    "param_grid = {\n",
    "    \"max_depth\": [5, 10, 15, None],\n",
    "    \"n_estimators\": [50, 100, 200, 300]\n",
    "}\n",
    "rf = sklearn.ensemble.RandomForestClassifier(random_state=42)\n",
    "\n",
    "grid_search = sklearn.model_selection.GridSearchCV(rf, param_grid, cv=5, scoring=\"accuracy\", n_jobs=-1)\n",
    "grid_search.fit(x_train_sm, y_train_sm)\n",
    "\n",
    "print(\"Best parameters: \", grid_search.best_params_)\n",
    "print(\"Best accuracy score: \", grid_search.best_score_)\n",
    "\n",
    "best_rf = grid_search.best_estimator_\n",
    "best_rf.fit(x_train_sm, y_train_sm)"
   ]
  },
  {
   "cell_type": "code",
   "execution_count": 29,
   "id": "87d749ed",
   "metadata": {},
   "outputs": [
    {
     "name": "stdout",
     "output_type": "stream",
     "text": [
      "Cross-validation scores: [0.92923795 0.94323484 0.95645412 0.94712286 0.95412131]\n",
      "Mean Accuracy: 0.9460342146189735\n"
     ]
    }
   ],
   "source": [
    "# checking cross validation score\n",
    "\n",
    "from sklearn.model_selection import cross_val_score, StratifiedKFold\n",
    "\n",
    "scores = cross_val_score(best_rf, x_train_sm, y_train_sm, cv=5, scoring='accuracy')\n",
    "\n",
    "print(\"Cross-validation scores:\", scores)\n",
    "print(\"Mean Accuracy:\", scores.mean())"
   ]
  },
  {
   "cell_type": "code",
   "execution_count": 30,
   "id": "6bfe1b9a",
   "metadata": {
    "scrolled": false
   },
   "outputs": [
    {
     "name": "stdout",
     "output_type": "stream",
     "text": [
      "Fitting 5 folds for each of 4 candidates, totalling 20 fits\n"
     ]
    },
    {
     "name": "stderr",
     "output_type": "stream",
     "text": [
      "/opt/anaconda3/lib/python3.11/site-packages/sklearn/linear_model/_logistic.py:458: ConvergenceWarning: lbfgs failed to converge (status=1):\n",
      "STOP: TOTAL NO. of ITERATIONS REACHED LIMIT.\n",
      "\n",
      "Increase the number of iterations (max_iter) or scale the data as shown in:\n",
      "    https://scikit-learn.org/stable/modules/preprocessing.html\n",
      "Please also refer to the documentation for alternative solver options:\n",
      "    https://scikit-learn.org/stable/modules/linear_model.html#logistic-regression\n",
      "  n_iter_i = _check_optimize_result(\n",
      "/opt/anaconda3/lib/python3.11/site-packages/sklearn/linear_model/_logistic.py:458: ConvergenceWarning: lbfgs failed to converge (status=1):\n",
      "STOP: TOTAL NO. of ITERATIONS REACHED LIMIT.\n",
      "\n",
      "Increase the number of iterations (max_iter) or scale the data as shown in:\n",
      "    https://scikit-learn.org/stable/modules/preprocessing.html\n",
      "Please also refer to the documentation for alternative solver options:\n",
      "    https://scikit-learn.org/stable/modules/linear_model.html#logistic-regression\n",
      "  n_iter_i = _check_optimize_result(\n",
      "/opt/anaconda3/lib/python3.11/site-packages/sklearn/linear_model/_logistic.py:458: ConvergenceWarning: lbfgs failed to converge (status=1):\n",
      "STOP: TOTAL NO. of ITERATIONS REACHED LIMIT.\n",
      "\n",
      "Increase the number of iterations (max_iter) or scale the data as shown in:\n",
      "    https://scikit-learn.org/stable/modules/preprocessing.html\n",
      "Please also refer to the documentation for alternative solver options:\n",
      "    https://scikit-learn.org/stable/modules/linear_model.html#logistic-regression\n",
      "  n_iter_i = _check_optimize_result(\n",
      "/opt/anaconda3/lib/python3.11/site-packages/sklearn/linear_model/_logistic.py:458: ConvergenceWarning: lbfgs failed to converge (status=1):\n",
      "STOP: TOTAL NO. of ITERATIONS REACHED LIMIT.\n",
      "\n",
      "Increase the number of iterations (max_iter) or scale the data as shown in:\n",
      "    https://scikit-learn.org/stable/modules/preprocessing.html\n",
      "Please also refer to the documentation for alternative solver options:\n",
      "    https://scikit-learn.org/stable/modules/linear_model.html#logistic-regression\n",
      "  n_iter_i = _check_optimize_result(\n",
      "/opt/anaconda3/lib/python3.11/site-packages/sklearn/linear_model/_logistic.py:458: ConvergenceWarning: lbfgs failed to converge (status=1):\n",
      "STOP: TOTAL NO. of ITERATIONS REACHED LIMIT.\n",
      "\n",
      "Increase the number of iterations (max_iter) or scale the data as shown in:\n",
      "    https://scikit-learn.org/stable/modules/preprocessing.html\n",
      "Please also refer to the documentation for alternative solver options:\n",
      "    https://scikit-learn.org/stable/modules/linear_model.html#logistic-regression\n",
      "  n_iter_i = _check_optimize_result(\n"
     ]
    },
    {
     "name": "stdout",
     "output_type": "stream",
     "text": [
      "Best parameters:  {'max_iter': 200}\n",
      "Best accuracy score:  0.825194401244168\n"
     ]
    },
    {
     "data": {
      "text/html": [
       "<style>#sk-container-id-3 {color: black;background-color: white;}#sk-container-id-3 pre{padding: 0;}#sk-container-id-3 div.sk-toggleable {background-color: white;}#sk-container-id-3 label.sk-toggleable__label {cursor: pointer;display: block;width: 100%;margin-bottom: 0;padding: 0.3em;box-sizing: border-box;text-align: center;}#sk-container-id-3 label.sk-toggleable__label-arrow:before {content: \"▸\";float: left;margin-right: 0.25em;color: #696969;}#sk-container-id-3 label.sk-toggleable__label-arrow:hover:before {color: black;}#sk-container-id-3 div.sk-estimator:hover label.sk-toggleable__label-arrow:before {color: black;}#sk-container-id-3 div.sk-toggleable__content {max-height: 0;max-width: 0;overflow: hidden;text-align: left;background-color: #f0f8ff;}#sk-container-id-3 div.sk-toggleable__content pre {margin: 0.2em;color: black;border-radius: 0.25em;background-color: #f0f8ff;}#sk-container-id-3 input.sk-toggleable__control:checked~div.sk-toggleable__content {max-height: 200px;max-width: 100%;overflow: auto;}#sk-container-id-3 input.sk-toggleable__control:checked~label.sk-toggleable__label-arrow:before {content: \"▾\";}#sk-container-id-3 div.sk-estimator input.sk-toggleable__control:checked~label.sk-toggleable__label {background-color: #d4ebff;}#sk-container-id-3 div.sk-label input.sk-toggleable__control:checked~label.sk-toggleable__label {background-color: #d4ebff;}#sk-container-id-3 input.sk-hidden--visually {border: 0;clip: rect(1px 1px 1px 1px);clip: rect(1px, 1px, 1px, 1px);height: 1px;margin: -1px;overflow: hidden;padding: 0;position: absolute;width: 1px;}#sk-container-id-3 div.sk-estimator {font-family: monospace;background-color: #f0f8ff;border: 1px dotted black;border-radius: 0.25em;box-sizing: border-box;margin-bottom: 0.5em;}#sk-container-id-3 div.sk-estimator:hover {background-color: #d4ebff;}#sk-container-id-3 div.sk-parallel-item::after {content: \"\";width: 100%;border-bottom: 1px solid gray;flex-grow: 1;}#sk-container-id-3 div.sk-label:hover label.sk-toggleable__label {background-color: #d4ebff;}#sk-container-id-3 div.sk-serial::before {content: \"\";position: absolute;border-left: 1px solid gray;box-sizing: border-box;top: 0;bottom: 0;left: 50%;z-index: 0;}#sk-container-id-3 div.sk-serial {display: flex;flex-direction: column;align-items: center;background-color: white;padding-right: 0.2em;padding-left: 0.2em;position: relative;}#sk-container-id-3 div.sk-item {position: relative;z-index: 1;}#sk-container-id-3 div.sk-parallel {display: flex;align-items: stretch;justify-content: center;background-color: white;position: relative;}#sk-container-id-3 div.sk-item::before, #sk-container-id-3 div.sk-parallel-item::before {content: \"\";position: absolute;border-left: 1px solid gray;box-sizing: border-box;top: 0;bottom: 0;left: 50%;z-index: -1;}#sk-container-id-3 div.sk-parallel-item {display: flex;flex-direction: column;z-index: 1;position: relative;background-color: white;}#sk-container-id-3 div.sk-parallel-item:first-child::after {align-self: flex-end;width: 50%;}#sk-container-id-3 div.sk-parallel-item:last-child::after {align-self: flex-start;width: 50%;}#sk-container-id-3 div.sk-parallel-item:only-child::after {width: 0;}#sk-container-id-3 div.sk-dashed-wrapped {border: 1px dashed gray;margin: 0 0.4em 0.5em 0.4em;box-sizing: border-box;padding-bottom: 0.4em;background-color: white;}#sk-container-id-3 div.sk-label label {font-family: monospace;font-weight: bold;display: inline-block;line-height: 1.2em;}#sk-container-id-3 div.sk-label-container {text-align: center;}#sk-container-id-3 div.sk-container {/* jupyter's `normalize.less` sets `[hidden] { display: none; }` but bootstrap.min.css set `[hidden] { display: none !important; }` so we also need the `!important` here to be able to override the default hidden behavior on the sphinx rendered scikit-learn.org. See: https://github.com/scikit-learn/scikit-learn/issues/21755 */display: inline-block !important;position: relative;}#sk-container-id-3 div.sk-text-repr-fallback {display: none;}</style><div id=\"sk-container-id-3\" class=\"sk-top-container\"><div class=\"sk-text-repr-fallback\"><pre>LogisticRegression(max_iter=200, random_state=42)</pre><b>In a Jupyter environment, please rerun this cell to show the HTML representation or trust the notebook. <br />On GitHub, the HTML representation is unable to render, please try loading this page with nbviewer.org.</b></div><div class=\"sk-container\" hidden><div class=\"sk-item\"><div class=\"sk-estimator sk-toggleable\"><input class=\"sk-toggleable__control sk-hidden--visually\" id=\"sk-estimator-id-3\" type=\"checkbox\" checked><label for=\"sk-estimator-id-3\" class=\"sk-toggleable__label sk-toggleable__label-arrow\">LogisticRegression</label><div class=\"sk-toggleable__content\"><pre>LogisticRegression(max_iter=200, random_state=42)</pre></div></div></div></div></div>"
      ],
      "text/plain": [
       "LogisticRegression(max_iter=200, random_state=42)"
      ]
     },
     "execution_count": 30,
     "metadata": {},
     "output_type": "execute_result"
    }
   ],
   "source": [
    "#Experiment number 3 using Logistc regression as a simple model\n",
    "\n",
    "from sklearn.linear_model import LogisticRegression\n",
    "\n",
    "param_grid = {\n",
    "    \"max_iter\": [200, 500, 1000, 2000]\n",
    "}\n",
    "lr = LogisticRegression(random_state=42)\n",
    "\n",
    "grid_search = sklearn.model_selection.GridSearchCV(lr, param_grid, cv=5, scoring=\"accuracy\", n_jobs=-1, verbose=1)\n",
    "grid_search.fit(x_train_sm, y_train_sm)\n",
    "\n",
    "print(\"Best parameters: \", grid_search.best_params_)\n",
    "print(\"Best accuracy score: \", grid_search.best_score_)\n",
    "\n",
    "best_lr = grid_search.best_estimator_\n",
    "best_lr.fit(x_train_sm, y_train_sm)"
   ]
  },
  {
   "cell_type": "code",
   "execution_count": 32,
   "id": "8174dfab",
   "metadata": {},
   "outputs": [
    {
     "name": "stdout",
     "output_type": "stream",
     "text": [
      "Cross-validation scores: [0.79937792 0.82892691 0.83359253 0.82348367 0.83981337]\n",
      "Mean Accuracy: 0.8250388802488334\n"
     ]
    }
   ],
   "source": [
    "# checking cross validation score\n",
    "\n",
    "from sklearn.model_selection import cross_val_score, StratifiedKFold\n",
    "\n",
    "scores = cross_val_score(best_lr, x_train_sm, y_train_sm, cv=5, scoring='accuracy')\n",
    "\n",
    "print(\"Cross-validation scores:\", scores)\n",
    "print(\"Mean Accuracy:\", scores.mean())"
   ]
  },
  {
   "cell_type": "markdown",
   "id": "ebdef30e",
   "metadata": {},
   "source": [
    "# 7. Model Assessment"
   ]
  },
  {
   "cell_type": "code",
   "execution_count": 33,
   "id": "4593c092",
   "metadata": {},
   "outputs": [
    {
     "name": "stdout",
     "output_type": "stream",
     "text": [
      "              precision    recall  f1-score   support\n",
      "\n",
      "           0       0.85      0.89      0.87       329\n",
      "           1       0.84      0.75      0.79       297\n",
      "           2       0.88      0.96      0.92        23\n",
      "           3       0.78      0.87      0.82       144\n",
      "           4       0.85      0.77      0.80        43\n",
      "\n",
      "    accuracy                           0.83       836\n",
      "   macro avg       0.84      0.85      0.84       836\n",
      "weighted avg       0.83      0.83      0.83       836\n",
      "\n"
     ]
    }
   ],
   "source": [
    "from sklearn.metrics import classification_report\n",
    "\n",
    "y_predicted = best_dt.predict(x_test_preprocessed)\n",
    "\n",
    "print(classification_report(y_test_le, y_predicted))"
   ]
  },
  {
   "cell_type": "code",
   "execution_count": 34,
   "id": "b416106b",
   "metadata": {},
   "outputs": [
    {
     "name": "stdout",
     "output_type": "stream",
     "text": [
      "              precision    recall  f1-score   support\n",
      "\n",
      "           0       0.91      0.93      0.92       329\n",
      "           1       0.91      0.82      0.86       297\n",
      "           2       0.88      0.96      0.92        23\n",
      "           3       0.82      0.94      0.88       144\n",
      "           4       0.85      0.81      0.83        43\n",
      "\n",
      "    accuracy                           0.89       836\n",
      "   macro avg       0.87      0.89      0.88       836\n",
      "weighted avg       0.89      0.89      0.89       836\n",
      "\n"
     ]
    }
   ],
   "source": [
    "y_predicted = best_rf.predict(x_test_preprocessed)\n",
    "\n",
    "print(classification_report(y_test_le, y_predicted))"
   ]
  },
  {
   "cell_type": "code",
   "execution_count": 35,
   "id": "389fb323",
   "metadata": {},
   "outputs": [
    {
     "name": "stdout",
     "output_type": "stream",
     "text": [
      "              precision    recall  f1-score   support\n",
      "\n",
      "           0       0.83      0.89      0.86       329\n",
      "           1       0.79      0.63      0.70       297\n",
      "           2       0.70      0.91      0.79        23\n",
      "           3       0.66      0.76      0.71       144\n",
      "           4       0.57      0.65      0.61        43\n",
      "\n",
      "    accuracy                           0.77       836\n",
      "   macro avg       0.71      0.77      0.73       836\n",
      "weighted avg       0.77      0.77      0.76       836\n",
      "\n"
     ]
    }
   ],
   "source": [
    "y_predicted = best_lr.predict(x_test_preprocessed)\n",
    "\n",
    "print(classification_report(y_test_le, y_predicted))"
   ]
  }
 ],
 "metadata": {
  "kernelspec": {
   "display_name": "Python 3 (ipykernel)",
   "language": "python",
   "name": "python3"
  },
  "language_info": {
   "codemirror_mode": {
    "name": "ipython",
    "version": 3
   },
   "file_extension": ".py",
   "mimetype": "text/x-python",
   "name": "python",
   "nbconvert_exporter": "python",
   "pygments_lexer": "ipython3",
   "version": "3.11.7"
  }
 },
 "nbformat": 4,
 "nbformat_minor": 5
}
